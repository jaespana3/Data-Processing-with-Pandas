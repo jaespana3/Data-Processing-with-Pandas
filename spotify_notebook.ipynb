{
 "cells": [
  {
   "cell_type": "markdown",
   "metadata": {},
   "source": [
    "### Overall Observations\n",
    "\n",
    "Genre Differentiation: Genres exhibit distinct patterns in danceability, loudness, and acousticness, reflecting the unique character of each genre.\n",
    "Feature Relationships: Strong correlations exist between certain pairs of features, indicating that they tend to vary together.\n",
    "Popularity Indicators: The analysis of unique genres, artists, and albums, as well as the identification of popular tracks, provides insights into what resonates with listeners in the Top 50.\n",
    "\n",
    "**Conclusions**\n",
    "\n",
    "1. **Genre Characteristics**\n",
    "    - Hip-Hop/Rap stands out with the highest average danceability, confirming its strong association with rhythmic and dance-oriented music.\n",
    "    - Dance/Electronic and Pop genres exhibit high average loudness, which aligns with the energetic and often intense nature of these genres.\n",
    "    - Alternative/Indie has the highest average acousticness, suggesting a preference for organic and less processed sounds in this genre.\n",
    "2. **Feature Correlations**\n",
    "    - The strong positive correlation between 'energy' and 'loudness' suggests that songs perceived as energetic also tend to be loud. This could be attributed to the use of production techniques that simultaneously increase both energy and loudness.\n",
    "3. **Popularity and Diversity**\n",
    "    - The presence of 16 unique genres in the Top 50 highlights the diversity of popular music and the wide range of listener preferences.\n",
    "    - Pop is the most popular genre, which reflects its widespread appeal and its ability to consistently produce hit songs.\n",
    "    - The fact that there are 40 unique artist in the top 50, from which 8 have more than 1 song, suggests that even though there is a big diversity of artists, the public tend to prefer a small group of them.\n",
    "    - The identification of albums and artists with multiple popular tracks indicates consistent success and the ability to create music that resonates with a large audience.\n",
    "4. **Track Attributes**\n",
    "    - The wide range of 'loudness' and 'danceability' values in the Top 50 demonstrates the diverse sonic landscape of popular music and the varied preferences of listeners.\n",
    "    - The identification of longest and shortest tracks, as well as those with extreme 'loudness' and 'danceability' values, provides specific examples of how these attributes can vary in popular music.\n",
    "\n",
    "**Recommendations**\n",
    "\n",
    "- Further explore the factors that contribute to the success of albums and artists with multiple popular tracks.\n",
    "- Investigate the potential impact of 'loudness' and 'danceability' on song popularity, considering both extreme and moderate values.\n",
    "- Analyze the evolution of genre characteristics and feature correlations over time to identify emerging trends and patterns."
   ]
  },
  {
   "cell_type": "code",
   "execution_count": 22,
   "metadata": {},
   "outputs": [
    {
     "name": "stdout",
     "output_type": "stream",
     "text": [
      "Comparison of Danceability, Loudness, and Acousticness Scores for Different Genres:\n",
      "                   danceability  loudness  acousticness\n",
      "genre                                                  \n",
      "Alternative/Indie      0.661750 -5.421000      0.583500\n",
      "Dance/Electronic       0.755000 -5.338000      0.099440\n",
      "Hip-Hop/Rap            0.765538 -6.917846      0.188741\n",
      "Pop                    0.677571 -6.460357      0.323843\n"
     ]
    }
   ],
   "source": [
    "\n",
    "# Genres of interest\n",
    "genres_of_interest = ['Pop', 'Hip-Hop/Rap', 'Dance/Electronic', 'Alternative/Indie']\n",
    "\n",
    "# Filter the dataset for the genres of interest\n",
    "df_filtered = df[df['genre'].isin(genres_of_interest)]\n",
    "\n",
    "# Calculate the mean scores for danceability, loudness, and acousticness for each genre\n",
    "genre_grouped = df_filtered.groupby('genre')[['danceability', 'loudness', 'acousticness']].mean()\n",
    "\n",
    "# Display the results\n",
    "print(\"Comparison of Danceability, Loudness, and Acousticness Scores for Different Genres:\")\n",
    "print(genre_grouped)\n"
   ]
  },
  {
   "cell_type": "markdown",
   "metadata": {},
   "source": [
    "### Comparison of Danceability, Loudness, and Acousticness Across Genres\n",
    "\n",
    "In this analysis, we focused on comparing the **danceability**, **loudness**, and **acousticness** scores across four specific genres: **Pop**, **Hip-Hop/Rap**, **Dance/Electronic**, and **Alternative/Indie**. The dataset was filtered to include only these genres of interest.\n",
    "\n",
    "The **mean scores** for **danceability**, **loudness**, and **acousticness** were calculated for each genre, providing insights into how these audio characteristics vary across the selected genres.\n",
    "\n",
    "The results of this comparison help to understand genre-specific trends in terms of how songs in each genre score on these attributes, which can be useful for further analysis or genre-based recommendations.\n",
    "\n",
    "Hip-Hop/Rap: Highest average danceability.\n",
    "Emphasizes rhythm and beat patterns.\n",
    "\n",
    "Dance/Electronic: Higher average loudness. Focuses on\n",
    "energy and production techniques.\n",
    "\n",
    "Alternative/Indie: Highest average acousticness.\n",
    "Prioritizes organic instrumental sounds."
   ]
  },
  {
   "cell_type": "code",
   "execution_count": 22,
   "metadata": {},
   "outputs": [
    {
     "name": "stdout",
     "output_type": "stream",
     "text": [
      "Correlation Matrix for Numerical Features (After Removing Outliers):\n",
      "                    energy  danceability       key  loudness  acousticness  \\\n",
      "energy            1.000000      0.158797  0.047830  0.764852     -0.641366   \n",
      "danceability      0.158797      1.000000  0.269747  0.188406     -0.351675   \n",
      "key               0.047830      0.269747  1.000000 -0.008471     -0.097976   \n",
      "loudness          0.764852      0.188406 -0.008471  1.000000     -0.412957   \n",
      "acousticness     -0.641366     -0.351675 -0.097976 -0.412957      1.000000   \n",
      "speechiness       0.088558      0.217779 -0.019792 -0.053342     -0.099744   \n",
      "instrumentalness -0.182112     -0.006744  0.059855 -0.352444      0.032809   \n",
      "liveness          0.031172     -0.153177  0.168719 -0.086091     -0.021335   \n",
      "valence           0.358533      0.510354  0.112497  0.387957     -0.189840   \n",
      "tempo             0.073577      0.142349  0.103269  0.092170     -0.241888   \n",
      "duration_ms       0.130896     -0.143058 -0.047521  0.150379      0.015146   \n",
      "\n",
      "                  speechiness  instrumentalness  liveness   valence     tempo  \\\n",
      "energy               0.088558         -0.182112  0.031172  0.358533  0.073577   \n",
      "danceability         0.217779         -0.006744 -0.153177  0.510354  0.142349   \n",
      "key                 -0.019792          0.059855  0.168719  0.112497  0.103269   \n",
      "loudness            -0.053342         -0.352444 -0.086091  0.387957  0.092170   \n",
      "acousticness        -0.099744          0.032809 -0.021335 -0.189840 -0.241888   \n",
      "speechiness          1.000000          0.356720 -0.076855  0.087663  0.148446   \n",
      "instrumentalness     0.356720          1.000000 -0.080374  0.007031  0.097205   \n",
      "liveness            -0.076855         -0.080374  1.000000 -0.170785  0.122282   \n",
      "valence              0.087663          0.007031 -0.170785  1.000000  0.074522   \n",
      "tempo                0.148446          0.097205  0.122282  0.074522  1.000000   \n",
      "duration_ms          0.331415         -0.008841 -0.136554  0.042553  0.020240   \n",
      "\n",
      "                  duration_ms  \n",
      "energy               0.130896  \n",
      "danceability        -0.143058  \n",
      "key                 -0.047521  \n",
      "loudness             0.150379  \n",
      "acousticness         0.015146  \n",
      "speechiness          0.331415  \n",
      "instrumentalness    -0.008841  \n",
      "liveness            -0.136554  \n",
      "valence              0.042553  \n",
      "tempo                0.020240  \n",
      "duration_ms          1.000000  \n",
      "\n",
      "Features that are strongly positively correlated (above 0.7):\n",
      "                    energy  danceability  key  loudness  acousticness  \\\n",
      "energy            1.000000           NaN  NaN  0.764852           NaN   \n",
      "danceability           NaN           1.0  NaN       NaN           NaN   \n",
      "key                    NaN           NaN  1.0       NaN           NaN   \n",
      "loudness          0.764852           NaN  NaN  1.000000           NaN   \n",
      "acousticness           NaN           NaN  NaN       NaN           1.0   \n",
      "speechiness            NaN           NaN  NaN       NaN           NaN   \n",
      "instrumentalness       NaN           NaN  NaN       NaN           NaN   \n",
      "liveness               NaN           NaN  NaN       NaN           NaN   \n",
      "valence                NaN           NaN  NaN       NaN           NaN   \n",
      "tempo                  NaN           NaN  NaN       NaN           NaN   \n",
      "duration_ms            NaN           NaN  NaN       NaN           NaN   \n",
      "\n",
      "                  speechiness  instrumentalness  liveness  valence  tempo  \\\n",
      "energy                    NaN               NaN       NaN      NaN    NaN   \n",
      "danceability              NaN               NaN       NaN      NaN    NaN   \n",
      "key                       NaN               NaN       NaN      NaN    NaN   \n",
      "loudness                  NaN               NaN       NaN      NaN    NaN   \n",
      "acousticness              NaN               NaN       NaN      NaN    NaN   \n",
      "speechiness               1.0               NaN       NaN      NaN    NaN   \n",
      "instrumentalness          NaN               1.0       NaN      NaN    NaN   \n",
      "liveness                  NaN               NaN       1.0      NaN    NaN   \n",
      "valence                   NaN               NaN       NaN      1.0    NaN   \n",
      "tempo                     NaN               NaN       NaN      NaN    1.0   \n",
      "duration_ms               NaN               NaN       NaN      NaN    NaN   \n",
      "\n",
      "                  duration_ms  \n",
      "energy                    NaN  \n",
      "danceability              NaN  \n",
      "key                       NaN  \n",
      "loudness                  NaN  \n",
      "acousticness              NaN  \n",
      "speechiness               NaN  \n",
      "instrumentalness          NaN  \n",
      "liveness                  NaN  \n",
      "valence                   NaN  \n",
      "tempo                     NaN  \n",
      "duration_ms               1.0  \n",
      "\n",
      "Features that are strongly negatively correlated (below -0.7):\n",
      "Empty DataFrame\n",
      "Columns: []\n",
      "Index: []\n",
      "\n",
      "Features that are not correlated (between -0.1 and 0.1):\n",
      "                    energy  danceability       key  loudness  acousticness  \\\n",
      "energy                 NaN           NaN  0.047830       NaN           NaN   \n",
      "danceability           NaN           NaN       NaN       NaN           NaN   \n",
      "key               0.047830           NaN       NaN -0.008471     -0.097976   \n",
      "loudness               NaN           NaN -0.008471       NaN           NaN   \n",
      "acousticness           NaN           NaN -0.097976       NaN           NaN   \n",
      "speechiness       0.088558           NaN -0.019792 -0.053342     -0.099744   \n",
      "instrumentalness       NaN     -0.006744  0.059855       NaN      0.032809   \n",
      "liveness          0.031172           NaN       NaN -0.086091     -0.021335   \n",
      "valence                NaN           NaN       NaN       NaN           NaN   \n",
      "tempo             0.073577           NaN       NaN  0.092170           NaN   \n",
      "duration_ms            NaN           NaN -0.047521       NaN      0.015146   \n",
      "\n",
      "                  speechiness  instrumentalness  liveness   valence     tempo  \\\n",
      "energy               0.088558               NaN  0.031172       NaN  0.073577   \n",
      "danceability              NaN         -0.006744       NaN       NaN       NaN   \n",
      "key                 -0.019792          0.059855       NaN       NaN       NaN   \n",
      "loudness            -0.053342               NaN -0.086091       NaN  0.092170   \n",
      "acousticness        -0.099744          0.032809 -0.021335       NaN       NaN   \n",
      "speechiness               NaN               NaN -0.076855  0.087663       NaN   \n",
      "instrumentalness          NaN               NaN -0.080374  0.007031  0.097205   \n",
      "liveness            -0.076855         -0.080374       NaN       NaN       NaN   \n",
      "valence              0.087663          0.007031       NaN       NaN  0.074522   \n",
      "tempo                     NaN          0.097205       NaN  0.074522       NaN   \n",
      "duration_ms               NaN         -0.008841       NaN  0.042553  0.020240   \n",
      "\n",
      "                  duration_ms  \n",
      "energy                    NaN  \n",
      "danceability              NaN  \n",
      "key                 -0.047521  \n",
      "loudness                  NaN  \n",
      "acousticness         0.015146  \n",
      "speechiness               NaN  \n",
      "instrumentalness    -0.008841  \n",
      "liveness                  NaN  \n",
      "valence              0.042553  \n",
      "tempo                0.020240  \n",
      "duration_ms               NaN  \n"
     ]
    }
   ],
   "source": [
    "# Correlation matrix for numerical features (after removing outliers)\n",
    "correlation_matrix = df_no_outliers[numerical_features].corr()\n",
    "\n",
    "# Display the correlation matrix\n",
    "print(\"Correlation Matrix for Numerical Features (After Removing Outliers):\")\n",
    "print(correlation_matrix)\n",
    "\n",
    "# Extract strongly positive correlations (above 0.7)\n",
    "strong_positive_corr = correlation_matrix[correlation_matrix > 0.7]\n",
    "\n",
    "# Extract strongly negative correlations (below -0.7)\n",
    "strong_negative_corr = correlation_matrix[correlation_matrix < -0.7]\n",
    "\n",
    "# Extract features that are not correlated (near 0)\n",
    "not_correlated = correlation_matrix[(correlation_matrix > -0.1) & (correlation_matrix < 0.1)]\n",
    "\n",
    "# Print the results\n",
    "print(\"\\nFeatures that are strongly positively correlated (above 0.7):\")\n",
    "print(strong_positive_corr.dropna(how='all', axis=0).dropna(how='all', axis=1))\n",
    "\n",
    "print(\"\\nFeatures that are strongly negatively correlated (below -0.7):\")\n",
    "print(strong_negative_corr.dropna(how='all', axis=0).dropna(how='all', axis=1))\n",
    "\n",
    "print(\"\\nFeatures that are not correlated (between -0.1 and 0.1):\")\n",
    "print(not_correlated.dropna(how='all', axis=0).dropna(how='all', axis=1))\n",
    "\n"
   ]
  },
  {
   "cell_type": "markdown",
   "metadata": {},
   "source": [
    "### Correlation Analysis of Numerical Features\n",
    "\n",
    "In this step, we performed a **correlation analysis** on the numerical features of the dataset to understand the relationships between them. A correlation matrix was calculated, which shows the strength and direction of the linear relationships between the selected numerical features.\n",
    "\n",
    "The **outcome** of the analysis was:\n",
    "\n",
    "- **Strong Positive Correlations (above 0.7):** We extracted and displayed pairs of features that have a strong positive relationship, indicating that as one feature increases, the other tends to increase as well.\n",
    "- **Strong Negative Correlations (below -0.7):** We identified and displayed pairs of features with a strong negative relationship, meaning that as one feature increases, the other decreases.\n",
    "- **Features with No Significant Correlation (between -0.1 and 0.1):** We extracted features that have a negligible correlation, suggesting no meaningful linear relationship between them.\n",
    "\n",
    "The results help identify which features are highly related, which can inform feature selection for further analysis or modeling.\n",
    "\n",
    "**Energy & Loudness\n",
    "Strong positive correlation (0.764). Energetic songs tend to\n",
    "be louder.\n",
    "\n",
    "**Danceability & Valence\n",
    "Positive correlation (0.51). Danceable songs often have a\n",
    "happier feel.\n",
    "\n",
    "**Energy & Acousticness\n",
    "Negative correlation (-0.641). High-energy tracks typically\n",
    "have less acoustic sound.\n"
   ]
  },
  {
   "cell_type": "code",
   "execution_count": 21,
   "metadata": {},
   "outputs": [
    {
     "name": "stdout",
     "output_type": "stream",
     "text": [
      "Original dataset: 50 rows\n",
      "Dataset after outlier removal: 45 rows\n"
     ]
    }
   ],
   "source": [
    "# Create a filtered DataFrame without outliers\n",
    "df_no_outliers = df[(z_scores <= 3).all(axis=1)]\n",
    "\n",
    "# Print the new dataset size\n",
    "print(f\"Original dataset: {df.shape[0]} rows\")\n",
    "print(f\"Dataset after outlier removal: {df_no_outliers.shape[0]} rows\")\n",
    "\n",
    "## Define numerical features by selecting columns with numeric data types\n",
    "numerical_features = df_no_outliers.select_dtypes(include=['number']).columns\n",
    "\n"
   ]
  },
  {
   "cell_type": "code",
   "execution_count": 18,
   "metadata": {},
   "outputs": [
    {
     "name": "stdout",
     "output_type": "stream",
     "text": [
      "             artist                                  album  \\\n",
      "2       Roddy Ricch  Please Excuse Me For Being Antisocial   \n",
      "19           Future                          High Off Life   \n",
      "24    Billie Eilish                    everything i wanted   \n",
      "41  Black Eyed Peas                            Translation   \n",
      "49     Travis Scott                             ASTROWORLD   \n",
      "\n",
      "                    track_name                track_id  energy  danceability  \\\n",
      "2                      The Box  0nbXyq5TXYPCO7pr3N8S4I   0.586         0.896   \n",
      "19  Life Is Good (feat. Drake)  1K5KBOgreBi5fkEHvg5ap3   0.574         0.795   \n",
      "24         everything i wanted  3ZCTVFBt2Brf31RLEnCkWJ   0.225         0.704   \n",
      "41   RITMO (Bad Boys For Life)  4NCsrTzgVfsDo8nWyP8PPc   0.704         0.723   \n",
      "49                  SICKO MODE  2xLMifQCjDGFmkHkpNLD9h   0.730         0.834   \n",
      "\n",
      "    key  loudness  acousticness  speechiness  instrumentalness  liveness  \\\n",
      "2    10    -6.687       0.10400       0.0559           0.00000     0.790   \n",
      "19    2    -6.903       0.06700       0.4870           0.00000     0.150   \n",
      "24    6   -14.454       0.90200       0.0994           0.65700     0.106   \n",
      "41   10    -7.088       0.02590       0.0571           0.00109     0.792   \n",
      "49    8    -3.714       0.00513       0.2220           0.00000     0.124   \n",
      "\n",
      "    valence    tempo  duration_ms        genre  \n",
      "2     0.642  116.971       196653  Hip-Hop/Rap  \n",
      "19    0.537  142.053       237918  Hip-Hop/Rap  \n",
      "24    0.243  120.006       245426          Pop  \n",
      "41    0.684  105.095       214935          Pop  \n",
      "49    0.446  155.008       312820  Hip-Hop/Rap  \n"
     ]
    }
   ],
   "source": [
    "from scipy import stats\n",
    "import numpy as np\n",
    "\n",
    "# Compute Z-scores for numerical columns\n",
    "z_scores = np.abs(stats.zscore(df[numeric_features]))\n",
    "\n",
    "# Find rows where any Z-score is greater than 3 (outliers)\n",
    "outliers = df[(z_scores > 3).any(axis=1)]\n",
    "print(outliers)\n",
    "\n"
   ]
  },
  {
   "cell_type": "code",
   "execution_count": 17,
   "metadata": {},
   "outputs": [
    {
     "name": "stdout",
     "output_type": "stream",
     "text": [
      "Total number of genres in top 50: 16\n"
     ]
    }
   ],
   "source": [
    "# Number of Unique Genres\n",
    "\n",
    "unique_genres = df[\"genre\"].nunique()\n",
    "print(\"Total number of genres in top 50:\", unique_genres)\n"
   ]
  },
  {
   "cell_type": "markdown",
   "metadata": {},
   "source": [
    "\n",
    "### Identifying Genres with Only One Song in Top 50\n",
    "\n",
    "The dataset was analyzed to find the total of unique genres in the Top 50"
   ]
  },
  {
   "cell_type": "code",
   "execution_count": 16,
   "metadata": {},
   "outputs": [
    {
     "name": "stdout",
     "output_type": "stream",
     "text": [
      "Genres with only one song in top 50: genre\n",
      "R&B/Hip-Hop alternative               1\n",
      "Nu-disco                              1\n",
      "Pop/Soft Rock                         1\n",
      "Pop rap                               1\n",
      "Hip-Hop/Trap                          1\n",
      "Dance-pop/Disco                       1\n",
      "Disco-pop                             1\n",
      "Dreampop/Hip-Hop/R&B                  1\n",
      "Alternative/reggaeton/experimental    1\n",
      "Chamber pop                           1\n",
      "Name: count, dtype: int64\n"
     ]
    }
   ],
   "source": [
    "# Genres with Only One Song in Top 50\n",
    "\n",
    "scarce_genres = df[\"genre\"].value_counts()\n",
    "scarce_genres = scarce_genres[scarce_genres == 1]\n",
    "print(\"Genres with only one song in top 50:\", scarce_genres)\n"
   ]
  },
  {
   "cell_type": "markdown",
   "metadata": {},
   "source": [
    "### Identifying Genres with Only One Song in Top 50\n",
    "\n",
    "The dataset was analyzed to find the Genres with Only One Song in Top 50"
   ]
  },
  {
   "cell_type": "code",
   "execution_count": 15,
   "metadata": {},
   "outputs": [
    {
     "name": "stdout",
     "output_type": "stream",
     "text": [
      "Most popular genre: Pop\n"
     ]
    }
   ],
   "source": [
    "# Most Popular Genre\n",
    "\n",
    "most_popular_genre = df[\"genre\"].value_counts().idxmax()\n",
    "print(\"Most popular genre:\", most_popular_genre)\n"
   ]
  },
  {
   "cell_type": "markdown",
   "metadata": {},
   "source": [
    "### Identifying Most Popular Genre\n",
    "\n",
    "The dataset was analyzed to find the most popular genre."
   ]
  },
  {
   "cell_type": "code",
   "execution_count": 14,
   "metadata": {},
   "outputs": [
    {
     "name": "stdout",
     "output_type": "stream",
     "text": [
      "Longest track: track_name     SICKO MODE\n",
      "duration_ms        312820\n",
      "Name: 49, dtype: object\n",
      "Shortest track: track_name     Mood (feat. iann dior)\n",
      "duration_ms                    140526\n",
      "Name: 23, dtype: object\n"
     ]
    }
   ],
   "source": [
    "# Longest & Shortest Tracks\n",
    "\n",
    "longest_track = df.loc[df[\"duration_ms\"].idxmax(), [\"track_name\", \"duration_ms\"]]\n",
    "shortest_track = df.loc[df[\"duration_ms\"].idxmin(), [\"track_name\", \"duration_ms\"]]\n",
    "\n",
    "print(\"Longest track:\", longest_track)\n",
    "print(\"Shortest track:\", shortest_track)\n"
   ]
  },
  {
   "cell_type": "markdown",
   "metadata": {},
   "source": [
    "### Identifying Longest & Shortest Tracks\n",
    "\n",
    "The dataset was analyzed to find the longest and shortest song in duration."
   ]
  },
  {
   "cell_type": "code",
   "execution_count": 13,
   "metadata": {},
   "outputs": [
    {
     "name": "stdout",
     "output_type": "stream",
     "text": [
      "                                        track_name  loudness\n",
      "7                 death bed (coffee for your head)    -8.765\n",
      "8                                          Falling    -8.756\n",
      "15                                    Toosie Slide    -8.820\n",
      "20                Savage Love (Laxed - Siren Beat)    -8.520\n",
      "24                             everything i wanted   -14.454\n",
      "26                                         bad guy   -10.965\n",
      "36                             HIGHEST IN THE ROOM    -8.764\n",
      "44                            lovely (with Khalid)   -10.109\n",
      "47  If the World Was Ending - feat. Julia Michaels   -10.086\n"
     ]
    }
   ],
   "source": [
    "# Tracks with Loudness Below -8\n",
    "\n",
    "low_loudness = df[df[\"loudness\"] < -8][[\"track_name\", \"loudness\"]]\n",
    "print(low_loudness)\n"
   ]
  },
  {
   "cell_type": "markdown",
   "metadata": {},
   "source": [
    "### Identifying Tracks with Loudness Below -8\n",
    "\n",
    "The dataset was analyzed to find all the songs with a Loudness Below -8."
   ]
  },
  {
   "cell_type": "code",
   "execution_count": 12,
   "metadata": {},
   "outputs": [
    {
     "name": "stdout",
     "output_type": "stream",
     "text": [
      "                                       track_name  loudness\n",
      "4                                 Don't Start Now    -4.521\n",
      "6                                Watermelon Sugar    -4.209\n",
      "10                                           Tusa    -3.280\n",
      "12                                        Circles    -3.497\n",
      "16                                  Before You Go    -4.858\n",
      "17                                         Say So    -4.577\n",
      "21                                      Adore You    -3.675\n",
      "23                         Mood (feat. iann dior)    -3.558\n",
      "31                                 Break My Heart    -3.434\n",
      "32                                       Dynamite    -4.410\n",
      "33               Supalonely (feat. Gus Dapperton)    -4.746\n",
      "35                Rain On Me (with Ariana Grande)    -3.764\n",
      "37  Sunflower - Spider-Man: Into the Spider-Verse    -4.368\n",
      "38                                          Hawái    -3.454\n",
      "39                                        Ride It    -4.258\n",
      "40                                     goosebumps    -3.370\n",
      "43                                        Safaera    -4.074\n",
      "48                                       Physical    -3.756\n",
      "49                                     SICKO MODE    -3.714\n"
     ]
    }
   ],
   "source": [
    "# Tracks with Loudness Above -5\n",
    "\n",
    "high_loudness = df[df[\"loudness\"] > -5][[\"track_name\", \"loudness\"]]\n",
    "print(high_loudness)\n"
   ]
  },
  {
   "cell_type": "markdown",
   "metadata": {},
   "source": [
    "### Identifying Tracks with Loudness Above -5\n",
    "\n",
    "The dataset was analyzed to find all the songs with a Loudness Above -5."
   ]
  },
  {
   "cell_type": "code",
   "execution_count": 11,
   "metadata": {},
   "outputs": [
    {
     "name": "stdout",
     "output_type": "stream",
     "text": [
      "              track_name  danceability\n",
      "44  lovely (with Khalid)         0.351\n"
     ]
    }
   ],
   "source": [
    "# Tracks with Danceability Below 0.4\n",
    "\n",
    "low_danceability = df[df[\"danceability\"] < 0.4][[\"track_name\", \"danceability\"]]\n",
    "print(low_danceability)\n"
   ]
  },
  {
   "cell_type": "markdown",
   "metadata": {},
   "source": [
    "### Identifying Tracks with Danceability Below 0.4\n",
    "\n",
    "The dataset was analyzed to find all the songs with a Danceability Below 0.4."
   ]
  },
  {
   "cell_type": "code",
   "execution_count": 10,
   "metadata": {},
   "outputs": [
    {
     "name": "stdout",
     "output_type": "stream",
     "text": [
      "                                       track_name  danceability\n",
      "1                                    Dance Monkey         0.825\n",
      "2                                         The Box         0.896\n",
      "3                           Roses - Imanbek Remix         0.785\n",
      "4                                 Don't Start Now         0.793\n",
      "5                    ROCKSTAR (feat. Roddy Ricch)         0.746\n",
      "7                death bed (coffee for your head)         0.726\n",
      "8                                         Falling         0.784\n",
      "10                                           Tusa         0.803\n",
      "13                                Blueberry Faygo         0.774\n",
      "14                       Intentions (feat. Quavo)         0.806\n",
      "15                                   Toosie Slide         0.830\n",
      "17                                         Say So         0.787\n",
      "18                                       Memories         0.764\n",
      "19                     Life Is Good (feat. Drake)         0.795\n",
      "20               Savage Love (Laxed - Siren Beat)         0.767\n",
      "22                                    Breaking Me         0.789\n",
      "24                            everything i wanted         0.704\n",
      "25                                       Señorita         0.759\n",
      "26                                        bad guy         0.701\n",
      "27                WAP (feat. Megan Thee Stallion)         0.935\n",
      "28                                    Sunday Best         0.878\n",
      "29                    Godzilla (feat. Juice WRLD)         0.808\n",
      "31                                 Break My Heart         0.730\n",
      "32                                       Dynamite         0.746\n",
      "33               Supalonely (feat. Gus Dapperton)         0.862\n",
      "37  Sunflower - Spider-Man: Into the Spider-Verse         0.755\n",
      "38                                          Hawái         0.783\n",
      "39                                        Ride It         0.880\n",
      "40                                     goosebumps         0.841\n",
      "41                      RITMO (Bad Boys For Life)         0.723\n",
      "42                                     THE SCOTTS         0.716\n",
      "49                                     SICKO MODE         0.834\n"
     ]
    }
   ],
   "source": [
    "# Tracks with Danceability Above 0.7\n",
    "\n",
    "high_danceability = df[df[\"danceability\"] > 0.7][[\"track_name\", \"danceability\"]]\n",
    "print(high_danceability)\n"
   ]
  },
  {
   "cell_type": "markdown",
   "metadata": {},
   "source": [
    "### Identifying Tracks with Danceability Above 0.7\n",
    "\n",
    "The dataset was analyzed to find all the songs with a Danceability Above 0.7."
   ]
  },
  {
   "cell_type": "code",
   "execution_count": 9,
   "metadata": {},
   "outputs": [
    {
     "name": "stdout",
     "output_type": "stream",
     "text": [
      "Number of unique albums in top 50: 45\n"
     ]
    }
   ],
   "source": [
    "# Number of Unique Albums in Top 50\n",
    "\n",
    "unique_albums = df[\"album\"].nunique()\n",
    "print(\"Number of unique albums in top 50:\", unique_albums)\n"
   ]
  },
  {
   "cell_type": "markdown",
   "metadata": {},
   "source": [
    "### Identifying Number of Unique Albums in Top 50\n",
    "\n",
    "The dataset was analyzed to find if how many unique albums were part of the Top 50 list."
   ]
  },
  {
   "cell_type": "code",
   "execution_count": 8,
   "metadata": {},
   "outputs": [
    {
     "name": "stdout",
     "output_type": "stream",
     "text": [
      "album\n",
      "Future Nostalgia        3\n",
      "Hollywood's Bleeding    2\n",
      "Fine Line               2\n",
      "Changes                 2\n",
      "Name: count, dtype: int64\n"
     ]
    }
   ],
   "source": [
    "#Albums with More Than 1 Popular Track\n",
    "\n",
    "popular_albums = df[\"album\"].value_counts()\n",
    "popular_albums = popular_albums[popular_albums > 1]\n",
    "print(popular_albums)\n"
   ]
  },
  {
   "cell_type": "markdown",
   "metadata": {},
   "source": [
    "### Identifying Albums with More Than 1 Popular Track\n",
    "\n",
    "The dataset was analyzed to find if there were albums which contained multiple songs in the Top 50 list."
   ]
  },
  {
   "cell_type": "code",
   "execution_count": 7,
   "metadata": {},
   "outputs": [
    {
     "name": "stdout",
     "output_type": "stream",
     "text": [
      "Number of unique artists in top 50: 40\n"
     ]
    }
   ],
   "source": [
    "# Unique Artists in Top 50\n",
    "\n",
    "unique_artists = df[\"artist\"].nunique()\n",
    "print(\"Number of unique artists in top 50:\", unique_artists)\n"
   ]
  },
  {
   "cell_type": "markdown",
   "metadata": {},
   "source": [
    "### Identifying Unique Artists\n",
    "\n",
    "The dataset was analyzed to find how many unique artists where part of the Top 50 list."
   ]
  },
  {
   "cell_type": "code",
   "execution_count": 6,
   "metadata": {},
   "outputs": [
    {
     "name": "stdout",
     "output_type": "stream",
     "text": [
      "artist\n",
      "Dua Lipa         3\n",
      "Billie Eilish    3\n",
      "Travis Scott     3\n",
      "Harry Styles     2\n",
      "Lewis Capaldi    2\n",
      "Justin Bieber    2\n",
      "Post Malone      2\n",
      "Name: count, dtype: int64\n"
     ]
    }
   ],
   "source": [
    "# Most Popular Artists\n",
    "\n",
    "popular_artists = df[\"artist\"].value_counts()\n",
    "popular_artists = popular_artists[popular_artists > 1]\n",
    "print(popular_artists)\n"
   ]
  },
  {
   "cell_type": "markdown",
   "metadata": {},
   "source": [
    "### Identifying Most Popular Artists \n",
    "\n",
    "The dataset was analyzed to find the most popular artists, those which had more than 1 song in the Top 50."
   ]
  },
  {
   "cell_type": "code",
   "execution_count": 5,
   "metadata": {},
   "outputs": [
    {
     "name": "stdout",
     "output_type": "stream",
     "text": [
      "Categorical features: ['artist', 'album', 'track_name', 'track_id', 'genre']\n",
      "Numeric features: ['energy', 'danceability', 'key', 'loudness', 'acousticness', 'speechiness', 'instrumentalness', 'liveness', 'valence', 'tempo', 'duration_ms']\n"
     ]
    }
   ],
   "source": [
    "# Identify Categorical & Numeric Features\n",
    "\n",
    "categorical_features = df.select_dtypes(include=['object']).columns\n",
    "numeric_features = df.select_dtypes(include=['number']).columns\n",
    "\n",
    "\n",
    "print(\"Categorical features:\", categorical_features.tolist())\n",
    "print(\"Numeric features:\", numeric_features.tolist())\n"
   ]
  },
  {
   "cell_type": "code",
   "execution_count": 4,
   "metadata": {},
   "outputs": [
    {
     "name": "stdout",
     "output_type": "stream",
     "text": [
      "        artist                                  album             track_name  \\\n",
      "0   The Weeknd                            After Hours        Blinding Lights   \n",
      "1  Tones And I                           Dance Monkey           Dance Monkey   \n",
      "2  Roddy Ricch  Please Excuse Me For Being Antisocial                The Box   \n",
      "3    SAINt JHN                  Roses (Imanbek Remix)  Roses - Imanbek Remix   \n",
      "4     Dua Lipa                       Future Nostalgia        Don't Start Now   \n",
      "\n",
      "                 track_id  energy  danceability  key  loudness  acousticness  \\\n",
      "0  0VjIjW4GlUZAMYd2vXMi3b   0.730         0.514    1    -5.934       0.00146   \n",
      "1  1rgnBhdG2JDFTbYkYRZAku   0.593         0.825    6    -6.401       0.68800   \n",
      "2  0nbXyq5TXYPCO7pr3N8S4I   0.586         0.896   10    -6.687       0.10400   \n",
      "3  2Wo6QQD1KMDWeFkkjLqwx5   0.721         0.785    8    -5.457       0.01490   \n",
      "4  3PfIrDoz19wz7qK7tYeu62   0.793         0.793   11    -4.521       0.01230   \n",
      "\n",
      "   speechiness  instrumentalness  liveness  valence    tempo  duration_ms  \\\n",
      "0       0.0598          0.000095    0.0897    0.334  171.005       200040   \n",
      "1       0.0988          0.000161    0.1700    0.540   98.078       209755   \n",
      "2       0.0559          0.000000    0.7900    0.642  116.971       196653   \n",
      "3       0.0506          0.004320    0.2850    0.894  121.962       176219   \n",
      "4       0.0830          0.000000    0.0951    0.679  123.950       183290   \n",
      "\n",
      "               genre  \n",
      "0           R&B/Soul  \n",
      "1  Alternative/Indie  \n",
      "2        Hip-Hop/Rap  \n",
      "3   Dance/Electronic  \n",
      "4           Nu-disco  \n",
      "<class 'pandas.core.frame.DataFrame'>\n",
      "RangeIndex: 50 entries, 0 to 49\n",
      "Data columns (total 16 columns):\n",
      " #   Column            Non-Null Count  Dtype  \n",
      "---  ------            --------------  -----  \n",
      " 0   artist            50 non-null     object \n",
      " 1   album             50 non-null     object \n",
      " 2   track_name        50 non-null     object \n",
      " 3   track_id          50 non-null     object \n",
      " 4   energy            50 non-null     float64\n",
      " 5   danceability      50 non-null     float64\n",
      " 6   key               50 non-null     int64  \n",
      " 7   loudness          50 non-null     float64\n",
      " 8   acousticness      50 non-null     float64\n",
      " 9   speechiness       50 non-null     float64\n",
      " 10  instrumentalness  50 non-null     float64\n",
      " 11  liveness          50 non-null     float64\n",
      " 12  valence           50 non-null     float64\n",
      " 13  tempo             50 non-null     float64\n",
      " 14  duration_ms       50 non-null     int64  \n",
      " 15  genre             50 non-null     object \n",
      "dtypes: float64(9), int64(2), object(5)\n",
      "memory usage: 6.4+ KB\n",
      "None\n"
     ]
    }
   ],
   "source": [
    "# Drop the unnecessary column\n",
    "df = df.drop(columns=[\"Unnamed: 0\"])\n",
    "\n",
    "# Verify column is removed\n",
    "print(df.head())\n",
    "print(df.info())\n"
   ]
  },
  {
   "cell_type": "markdown",
   "metadata": {},
   "source": [
    "### Identifying Categorical and Numeric Features\n",
    "\n",
    "The dataset was analyzed to distinguish between categorical and numeric features. "
   ]
  },
  {
   "cell_type": "code",
   "execution_count": 3,
   "metadata": {},
   "outputs": [
    {
     "name": "stdout",
     "output_type": "stream",
     "text": [
      "   Unnamed: 0       artist                                  album  \\\n",
      "0           0   The Weeknd                            After Hours   \n",
      "1           1  Tones And I                           Dance Monkey   \n",
      "2           2  Roddy Ricch  Please Excuse Me For Being Antisocial   \n",
      "3           3    SAINt JHN                  Roses (Imanbek Remix)   \n",
      "4           4     Dua Lipa                       Future Nostalgia   \n",
      "\n",
      "              track_name                track_id  energy  danceability  key  \\\n",
      "0        Blinding Lights  0VjIjW4GlUZAMYd2vXMi3b   0.730         0.514    1   \n",
      "1           Dance Monkey  1rgnBhdG2JDFTbYkYRZAku   0.593         0.825    6   \n",
      "2                The Box  0nbXyq5TXYPCO7pr3N8S4I   0.586         0.896   10   \n",
      "3  Roses - Imanbek Remix  2Wo6QQD1KMDWeFkkjLqwx5   0.721         0.785    8   \n",
      "4        Don't Start Now  3PfIrDoz19wz7qK7tYeu62   0.793         0.793   11   \n",
      "\n",
      "   loudness  acousticness  speechiness  instrumentalness  liveness  valence  \\\n",
      "0    -5.934       0.00146       0.0598          0.000095    0.0897    0.334   \n",
      "1    -6.401       0.68800       0.0988          0.000161    0.1700    0.540   \n",
      "2    -6.687       0.10400       0.0559          0.000000    0.7900    0.642   \n",
      "3    -5.457       0.01490       0.0506          0.004320    0.2850    0.894   \n",
      "4    -4.521       0.01230       0.0830          0.000000    0.0951    0.679   \n",
      "\n",
      "     tempo  duration_ms              genre  \n",
      "0  171.005       200040           R&B/Soul  \n",
      "1   98.078       209755  Alternative/Indie  \n",
      "2  116.971       196653        Hip-Hop/Rap  \n",
      "3  121.962       176219   Dance/Electronic  \n",
      "4  123.950       183290           Nu-disco  \n",
      "<class 'pandas.core.frame.DataFrame'>\n",
      "RangeIndex: 50 entries, 0 to 49\n",
      "Data columns (total 17 columns):\n",
      " #   Column            Non-Null Count  Dtype  \n",
      "---  ------            --------------  -----  \n",
      " 0   Unnamed: 0        50 non-null     int64  \n",
      " 1   artist            50 non-null     object \n",
      " 2   album             50 non-null     object \n",
      " 3   track_name        50 non-null     object \n",
      " 4   track_id          50 non-null     object \n",
      " 5   energy            50 non-null     float64\n",
      " 6   danceability      50 non-null     float64\n",
      " 7   key               50 non-null     int64  \n",
      " 8   loudness          50 non-null     float64\n",
      " 9   acousticness      50 non-null     float64\n",
      " 10  speechiness       50 non-null     float64\n",
      " 11  instrumentalness  50 non-null     float64\n",
      " 12  liveness          50 non-null     float64\n",
      " 13  valence           50 non-null     float64\n",
      " 14  tempo             50 non-null     float64\n",
      " 15  duration_ms       50 non-null     int64  \n",
      " 16  genre             50 non-null     object \n",
      "dtypes: float64(9), int64(3), object(5)\n",
      "memory usage: 6.8+ KB\n",
      "None\n"
     ]
    }
   ],
   "source": [
    "import pandas as pd\n",
    "\n",
    "df = pd.read_csv(\"spotifytoptracks.csv\")\n",
    "\n",
    "# Data Exploration\n",
    "\n",
    "print(df.head())  # Show first rows\n",
    "print(df.info())  # Show column info\n"
   ]
  },
  {
   "cell_type": "markdown",
   "metadata": {},
   "source": [
    "### Data Loading and Initial Exploration\n",
    "\n",
    "The dataset was loaded using **Pandas**, and an initial exploration was conducted using the `head()` and `info()` functions. \n",
    "The exploration revealed that there were no missing values or duplicates, and the data was well-structured with no issues.\n"
   ]
  },
  {
   "cell_type": "markdown",
   "metadata": {},
   "source": [
    "# Spotify's Top 50 Tracks Analysis \n",
    "## Objective\n",
    "The goal of this project is to analyze the top 50 music tracks and extract insights about:\n",
    "- Most popular artists, albums, and genres\n",
    "- Correlations between features (danceability, loudness, etc.)\n",
    "- Comparison of features across music genres\n"
   ]
  }
 ],
 "metadata": {
  "kernelspec": {
   "display_name": "Python 3",
   "language": "python",
   "name": "python3"
  },
  "language_info": {
   "codemirror_mode": {
    "name": "ipython",
    "version": 3
   },
   "file_extension": ".py",
   "mimetype": "text/x-python",
   "name": "python",
   "nbconvert_exporter": "python",
   "pygments_lexer": "ipython3",
   "version": "3.12.8"
  }
 },
 "nbformat": 4,
 "nbformat_minor": 2
}
